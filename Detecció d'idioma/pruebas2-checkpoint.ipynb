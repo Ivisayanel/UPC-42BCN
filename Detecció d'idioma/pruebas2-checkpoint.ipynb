{
 "cells": [
  {
   "cell_type": "code",
   "execution_count": 2,
   "id": "a4b323a2",
   "metadata": {},
   "outputs": [
    {
     "name": "stderr",
     "output_type": "stream",
     "text": [
      "[nltk_data] Downloading package punkt to\n",
      "[nltk_data]     C:\\Users\\Usuario\\AppData\\Roaming\\nltk_data...\n",
      "[nltk_data]   Package punkt is already up-to-date!\n"
     ]
    },
    {
     "name": "stdout",
     "output_type": "stream",
     "text": [
      "{'./Data/deu_tst.txt': (-373604.34023070236, 'deu', 'deu'), './Data/eng_tst.txt': (-330352.47958746576, 'eng', 'eng'), './Data/fra_tst.txt': (-367271.63110165345, 'fra', 'fra'), './Data/ita_tst.txt': (-328794.3377380611, 'ita', 'ita'), './Data/nld_tst.txt': (-345944.89169539104, 'nld', 'nld'), './Data/spa_tst.txt': (-329330.5789091101, 'spa', 'spa')}\n"
     ]
    }
   ],
   "source": [
    "from nltk.collocations import TrigramCollocationFinder\n",
    "from IdiomModel2 import *\n",
    "from functions import *\n",
    "import nltk\n",
    "import pandas as pd\n",
    "\n",
    "nltk.download('punkt')\n",
    "\n",
    "model = Id_identifier()\n",
    "tr = [\"deu\", \"eng\", \"fra\", \"ita\", \"nld\", \"spa\"]\n",
    "for idiom in tr:\n",
    "    # Open files: file\n",
    "    with open(f'./Data/{idiom}_trn.txt', 'r', encoding = 'UTF-8') as content_file:\n",
    "        content = content_file.read()\n",
    "\n",
    "    a = nltk.sent_tokenize(content)\n",
    "\n",
    "    finder_tr = TrigramCollocationFinder.from_words(separation(a[0:30001]))\n",
    "    finder_tr.apply_freq_filter(5)\n",
    "\n",
    "    list_of_trigrams_tr = [tr for tr in finder_tr.ngram_fd.items()]\n",
    "    model.add_train(list_of_trigrams_tr, idiom)\n",
    "test = tr\n",
    "for i_test in test:\n",
    "    test = f'./Data/{i_test}_tst.txt'\n",
    "    with open(test, 'r', encoding = 'UTF-8') as content_file:\n",
    "        content = content_file.read()\n",
    "\n",
    "    a = nltk.sent_tokenize(content)\n",
    "\n",
    "    finder_tst = TrigramCollocationFinder.from_words(content)\n",
    "    list_of_trigrams_tst = [tr for tr in finder_tst.ngram_fd.items()]\n",
    "    model.add_test(list_of_trigrams_tst, i_test, test)\n",
    "\n",
    "\n",
    "\n",
    "model.calculate_metric()\n",
    "results = model.results()\n",
    "print(results)"
   ]
  },
  {
   "cell_type": "code",
   "execution_count": 5,
   "id": "4c7fc227",
   "metadata": {},
   "outputs": [
    {
     "name": "stdout",
     "output_type": "stream",
     "text": [
      "Predict  deu  eng  fra  ita  nld  spa\n",
      "True                                 \n",
      "deu        1    0    0    0    0    0\n",
      "eng        0    1    0    0    0    0\n",
      "fra        0    0    1    0    0    0\n",
      "ita        0    0    0    1    0    0\n",
      "nld        0    0    0    0    1    0\n",
      "spa        0    0    0    0    0    1\n",
      "Acc:  1.0\n"
     ]
    }
   ],
   "source": [
    "data = {'y_true': [],\n",
    "        'y_predicted': []}\n",
    "for x in results:\n",
    "    data['y_true'] += [results[x][1]]\n",
    "    data['y_predicted'] += [results[x][2]]\n",
    "\n",
    "true_values = 0\n",
    "for x in results:\n",
    "    if results[x][1] == results[x][2]:\n",
    "        true_values += 1\n",
    "\n",
    "df = pd.DataFrame(data)\n",
    "cm = pd.crosstab(df['y_true'], df['y_predicted'], rownames=['Predict'], colnames = ['True'])\n",
    "print(cm)\n",
    "\n",
    "print(\"Acc: \", true_values / len(results))"
   ]
  },
  {
   "cell_type": "code",
   "execution_count": 1,
   "id": "a4cf03c1",
   "metadata": {},
   "outputs": [],
   "source": [
    "import math"
   ]
  },
  {
   "cell_type": "code",
   "execution_count": 5,
   "id": "d8049f6d",
   "metadata": {},
   "outputs": [
    {
     "data": {
      "text/plain": [
       "0.0"
      ]
     },
     "execution_count": 5,
     "metadata": {},
     "output_type": "execute_result"
    }
   ],
   "source": [
    "math.exp(-174522)"
   ]
  }
 ],
 "metadata": {
  "kernelspec": {
   "display_name": "Python 3 (ipykernel)",
   "language": "python",
   "name": "python3"
  },
  "language_info": {
   "codemirror_mode": {
    "name": "ipython",
    "version": 3
   },
   "file_extension": ".py",
   "mimetype": "text/x-python",
   "name": "python",
   "nbconvert_exporter": "python",
   "pygments_lexer": "ipython3",
   "version": "3.10.8"
  }
 },
 "nbformat": 4,
 "nbformat_minor": 5
}
